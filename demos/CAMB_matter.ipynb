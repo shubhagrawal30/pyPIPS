{
 "cells": [
  {
   "attachments": {},
   "cell_type": "markdown",
   "metadata": {},
   "source": [
    "# Paramter Inference with Matter Power Spectra"
   ]
  },
  {
   "cell_type": "code",
   "execution_count": 1,
   "metadata": {},
   "outputs": [],
   "source": [
    "import sys, os\n",
    "from matplotlib import pyplot as plt\n",
    "import numpy as np\n",
    "import camb\n",
    "import pickle\n",
    "\n",
    "from pyPIPS.datasets import Datapoint, Dataset"
   ]
  },
  {
   "cell_type": "code",
   "execution_count": 2,
   "metadata": {},
   "outputs": [],
   "source": [
    "def get_matter_ps(params):\n",
    "    pars = camb.CAMBparams()\n",
    "    pars.set_cosmology(H0=params[\"H0\"], ombh2=params[\"ombh2\"], omch2=params[\"omch2\"], mnu=0.06, omk=0, tau=0.06)\n",
    "    pars.InitPower.set_params(As=2e-9, ns=0.965, r=0)\n",
    "    \n",
    "    pars.set_matter_power(redshifts=np.arange(10, 0, -1), kmax=1)\n",
    "    pars.NonLinear = camb.model.NonLinear_both\n",
    "    results = camb.get_results(pars)\n",
    "    results.calc_power_spectra(pars)\n",
    "    kh_nonlin, z_nonlin, pk_nonlin = results.get_matter_power_spectrum(minkh=1e-2, maxkh=1, npoints = 10)\n",
    "    \n",
    "    return Datapoint(ks=kh_nonlin, zs=z_nonlin, P_kz=pk_nonlin.T, params=params)"
   ]
  },
  {
   "cell_type": "code",
   "execution_count": 3,
   "metadata": {},
   "outputs": [],
   "source": [
    "val = get_matter_ps({\"H0\": 67.5, \"ombh2\": 0.022, \"omch2\": 0.122})\n",
    "print(val.P_kz.shape)\n",
    "\n",
    "fig, (ax1, ax2) = plt.subplots(1, 2, figsize=(12, 4))\n",
    "ax1.loglog(val.ks, val.P_kz)\n",
    "ax1.grid()\n",
    "ax1.set_xlabel(r\"$k$ [$h$/Mpc]\")\n",
    "ax1.set_ylabel(r\"$P(k)$ [$h^{-3}$Mpc$^3$]\")\n",
    "ax1.set_title(\"Matter power spectrum\")\n",
    "ax2.plot(val.zs, val.P_kz.T)\n",
    "ax2.set_yscale(\"log\")\n",
    "ax2.grid()\n",
    "ax2.set_xlabel(r\"$z$\")\n",
    "ax2.set_ylabel(r\"$P(k)$ [$h^{-3}$Mpc$^3$]\")\n",
    "ax2.set_title(\"Matter power spectrum\")\n",
    "plt.show()\n",
    "plt.close()"
   ]
  },
  {
   "cell_type": "code",
   "execution_count": null,
   "metadata": {},
   "outputs": [
    {
     "name": "stderr",
     "output_type": "stream",
     "text": [
      "  0%|          | 0/1000 [00:00<?, ?it/s]\n"
     ]
    },
    {
     "ename": "AttributeError",
     "evalue": "Can't pickle local object 'Dataset.generate_from_func.<locals>.<lambda>'",
     "output_type": "error",
     "traceback": [
      "\u001b[0;31m---------------------------------------------------------------------------\u001b[0m",
      "\u001b[0;31mAttributeError\u001b[0m                            Traceback (most recent call last)",
      "Cell \u001b[0;32mIn[4], line 9\u001b[0m\n\u001b[1;32m      7\u001b[0m \u001b[39melse\u001b[39;00m:\n\u001b[1;32m      8\u001b[0m     dataset \u001b[39m=\u001b[39m Dataset()\n\u001b[0;32m----> 9\u001b[0m     dataset\u001b[39m.\u001b[39;49mgenerate_from_func(get_matter_ps, \u001b[39m1000\u001b[39;49m, \\\n\u001b[1;32m     10\u001b[0m                                {\u001b[39m\"\u001b[39;49m\u001b[39mH0\u001b[39;49m\u001b[39m\"\u001b[39;49m: [\u001b[39m50\u001b[39;49m, \u001b[39m100\u001b[39;49m], \u001b[39m\"\u001b[39;49m\u001b[39mombh2\u001b[39;49m\u001b[39m\"\u001b[39;49m: [\u001b[39m0.01\u001b[39;49m, \u001b[39m0.05\u001b[39;49m], \u001b[39m\"\u001b[39;49m\u001b[39momch2\u001b[39;49m\u001b[39m\"\u001b[39;49m: [\u001b[39m0.01\u001b[39;49m, \u001b[39m0.5\u001b[39;49m]},\n\u001b[1;32m     11\u001b[0m                                mp_threads\u001b[39m=\u001b[39;49m\u001b[39m64\u001b[39;49m)\n\u001b[1;32m     12\u001b[0m     dataset\u001b[39m.\u001b[39msave(dataset_save_file)\n",
      "File \u001b[0;32m/global/cfs/cdirs/des/shubh/pyPIPS/src/pyPIPS/datasets.py:65\u001b[0m, in \u001b[0;36mDataset.generate_from_func\u001b[0;34m(self, func, num_points, parameter_range, sampling, gen_params_not_data_params, mp_threads)\u001b[0m\n\u001b[1;32m     63\u001b[0m     pool \u001b[39m=\u001b[39m mp\u001b[39m.\u001b[39mPool(mp_threads)\n\u001b[1;32m     64\u001b[0m     mp_func \u001b[39m=\u001b[39m \u001b[39mlambda\u001b[39;00m cosmology: \u001b[39mself\u001b[39m\u001b[39m.\u001b[39madd(func(cosmology))\n\u001b[0;32m---> 65\u001b[0m     \u001b[39mfor\u001b[39;00m _ \u001b[39min\u001b[39;00m tqdm\u001b[39m.\u001b[39mtqdm(pool\u001b[39m.\u001b[39mimap_unordered(mp_func, lhs_cosmology), total\u001b[39m=\u001b[39mnum_points):\n\u001b[1;32m     66\u001b[0m         \u001b[39mpass\u001b[39;00m\n\u001b[1;32m     67\u001b[0m \u001b[39melse\u001b[39;00m:\n",
      "File \u001b[0;32m/global/cfs/cdirs/des/shubh/.conda/envs/pips/lib/python3.9/site-packages/tqdm/std.py:1178\u001b[0m, in \u001b[0;36mtqdm.__iter__\u001b[0;34m(self)\u001b[0m\n\u001b[1;32m   1175\u001b[0m time \u001b[39m=\u001b[39m \u001b[39mself\u001b[39m\u001b[39m.\u001b[39m_time\n\u001b[1;32m   1177\u001b[0m \u001b[39mtry\u001b[39;00m:\n\u001b[0;32m-> 1178\u001b[0m     \u001b[39mfor\u001b[39;00m obj \u001b[39min\u001b[39;00m iterable:\n\u001b[1;32m   1179\u001b[0m         \u001b[39myield\u001b[39;00m obj\n\u001b[1;32m   1180\u001b[0m         \u001b[39m# Update and possibly print the progressbar.\u001b[39;00m\n\u001b[1;32m   1181\u001b[0m         \u001b[39m# Note: does not call self.update(1) for speed optimisation.\u001b[39;00m\n",
      "File \u001b[0;32m/global/cfs/cdirs/des/shubh/.conda/envs/pips/lib/python3.9/multiprocessing/pool.py:870\u001b[0m, in \u001b[0;36mIMapIterator.next\u001b[0;34m(self, timeout)\u001b[0m\n\u001b[1;32m    868\u001b[0m \u001b[39mif\u001b[39;00m success:\n\u001b[1;32m    869\u001b[0m     \u001b[39mreturn\u001b[39;00m value\n\u001b[0;32m--> 870\u001b[0m \u001b[39mraise\u001b[39;00m value\n",
      "File \u001b[0;32m/global/cfs/cdirs/des/shubh/.conda/envs/pips/lib/python3.9/multiprocessing/pool.py:537\u001b[0m, in \u001b[0;36mPool._handle_tasks\u001b[0;34m(taskqueue, put, outqueue, pool, cache)\u001b[0m\n\u001b[1;32m    535\u001b[0m     \u001b[39mbreak\u001b[39;00m\n\u001b[1;32m    536\u001b[0m \u001b[39mtry\u001b[39;00m:\n\u001b[0;32m--> 537\u001b[0m     put(task)\n\u001b[1;32m    538\u001b[0m \u001b[39mexcept\u001b[39;00m \u001b[39mException\u001b[39;00m \u001b[39mas\u001b[39;00m e:\n\u001b[1;32m    539\u001b[0m     job, idx \u001b[39m=\u001b[39m task[:\u001b[39m2\u001b[39m]\n",
      "File \u001b[0;32m/global/cfs/cdirs/des/shubh/.conda/envs/pips/lib/python3.9/multiprocessing/connection.py:206\u001b[0m, in \u001b[0;36m_ConnectionBase.send\u001b[0;34m(self, obj)\u001b[0m\n\u001b[1;32m    204\u001b[0m \u001b[39mself\u001b[39m\u001b[39m.\u001b[39m_check_closed()\n\u001b[1;32m    205\u001b[0m \u001b[39mself\u001b[39m\u001b[39m.\u001b[39m_check_writable()\n\u001b[0;32m--> 206\u001b[0m \u001b[39mself\u001b[39m\u001b[39m.\u001b[39m_send_bytes(_ForkingPickler\u001b[39m.\u001b[39;49mdumps(obj))\n",
      "File \u001b[0;32m/global/cfs/cdirs/des/shubh/.conda/envs/pips/lib/python3.9/multiprocessing/reduction.py:51\u001b[0m, in \u001b[0;36mForkingPickler.dumps\u001b[0;34m(cls, obj, protocol)\u001b[0m\n\u001b[1;32m     48\u001b[0m \u001b[39m@classmethod\u001b[39m\n\u001b[1;32m     49\u001b[0m \u001b[39mdef\u001b[39;00m \u001b[39mdumps\u001b[39m(\u001b[39mcls\u001b[39m, obj, protocol\u001b[39m=\u001b[39m\u001b[39mNone\u001b[39;00m):\n\u001b[1;32m     50\u001b[0m     buf \u001b[39m=\u001b[39m io\u001b[39m.\u001b[39mBytesIO()\n\u001b[0;32m---> 51\u001b[0m     \u001b[39mcls\u001b[39;49m(buf, protocol)\u001b[39m.\u001b[39;49mdump(obj)\n\u001b[1;32m     52\u001b[0m     \u001b[39mreturn\u001b[39;00m buf\u001b[39m.\u001b[39mgetbuffer()\n",
      "\u001b[0;31mAttributeError\u001b[0m: Can't pickle local object 'Dataset.generate_from_func.<locals>.<lambda>'"
     ]
    }
   ],
   "source": [
    "dataset = Dataset()\n",
    "\n",
    "dataset_save_file = \"./data/matter.pkl\"\n",
    "if os.path.exists(dataset_save_file):\n",
    "    with open(dataset_save_file, \"rb\") as f:\n",
    "        dataset = pickle.load(f)\n",
    "else:\n",
    "    dataset = Dataset()\n",
    "    dataset.generate_from_func(get_matter_ps, 1000, \\\n",
    "                               {\"H0\": [50, 100], \"ombh2\": [0.01, 0.05], \"omch2\": [0.01, 0.5]},\n",
    "                               mp_threads=64)\n",
    "    dataset.save(dataset_save_file)"
   ]
  },
  {
   "cell_type": "code",
   "execution_count": 6,
   "metadata": {},
   "outputs": [
    {
     "data": {
      "text/plain": [
       "<pyPIPS.datasets.Dataset at 0x7fab2bc260a0>"
      ]
     },
     "execution_count": 6,
     "metadata": {},
     "output_type": "execute_result"
    }
   ],
   "source": [
    "dataset"
   ]
  },
  {
   "cell_type": "code",
   "execution_count": null,
   "metadata": {},
   "outputs": [],
   "source": []
  }
 ],
 "metadata": {
  "kernelspec": {
   "display_name": "pips",
   "language": "python",
   "name": "python3"
  },
  "language_info": {
   "codemirror_mode": {
    "name": "ipython",
    "version": 3
   },
   "file_extension": ".py",
   "mimetype": "text/x-python",
   "name": "python",
   "nbconvert_exporter": "python",
   "pygments_lexer": "ipython3",
   "version": "3.9.16"
  }
 },
 "nbformat": 4,
 "nbformat_minor": 4
}
